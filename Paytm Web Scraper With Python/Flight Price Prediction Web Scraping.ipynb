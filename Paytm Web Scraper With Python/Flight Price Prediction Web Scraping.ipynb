{
 "cells": [
  {
   "cell_type": "markdown",
   "id": "f79d81df",
   "metadata": {},
   "source": [
    "### 1. Importing usefull libraries"
   ]
  },
  {
   "cell_type": "code",
   "execution_count": 1,
   "id": "57743b9d",
   "metadata": {},
   "outputs": [],
   "source": [
    "# Importing Libraries\n",
    "import selenium\n",
    "import pandas as pd\n",
    "import time\n",
    "\n",
    "\n",
    "# Importing selenium webdriver \n",
    "from selenium import webdriver\n",
    "from selenium.common.exceptions import StaleElementReferenceException, NoSuchElementException, ElementClickInterceptedException\n",
    "from selenium.webdriver.common.keys import Keys\n",
    "\n",
    "\n",
    "#Importing requests\n",
    "import requests\n",
    "\n",
    "# importing regex\n",
    "import re\n",
    "\n",
    "# importing warnings\n",
    "import warnings\n",
    "warnings.filterwarnings('ignore')"
   ]
  },
  {
   "cell_type": "markdown",
   "id": "bbfbdf4b",
   "metadata": {},
   "source": [
    "### 2. Connecting with web driver"
   ]
  },
  {
   "cell_type": "code",
   "execution_count": 2,
   "id": "92481e5d",
   "metadata": {},
   "outputs": [],
   "source": [
    "driver = webdriver.Chrome(r'E:/DATA TRAINED/Sofrware/chromedriver_win32/chromedriver.exe')"
   ]
  },
  {
   "cell_type": "markdown",
   "id": "b5e0b1ad",
   "metadata": {},
   "source": [
    "### 3. Open url by web driver"
   ]
  },
  {
   "cell_type": "code",
   "execution_count": 3,
   "id": "7b655fd9",
   "metadata": {},
   "outputs": [],
   "source": [
    "driver.get(r'https://paytm.com/')\n",
    "time.sleep(3)"
   ]
  },
  {
   "cell_type": "markdown",
   "id": "3b861475",
   "metadata": {},
   "source": [
    "### 4. Maximize the window"
   ]
  },
  {
   "cell_type": "code",
   "execution_count": 4,
   "id": "aa2291a8",
   "metadata": {},
   "outputs": [],
   "source": [
    "driver.maximize_window()"
   ]
  },
  {
   "cell_type": "markdown",
   "id": "765abb7b",
   "metadata": {},
   "source": [
    "### 5. Clicking on fligth ticket"
   ]
  },
  {
   "cell_type": "code",
   "execution_count": 5,
   "id": "69bb7f3d",
   "metadata": {},
   "outputs": [],
   "source": [
    "for i in driver.find_elements_by_xpath('/html/body/div[1]/div/section[4]/div/div/div/div[2]'):\n",
    "    i.click()"
   ]
  },
  {
   "cell_type": "markdown",
   "id": "525e4674",
   "metadata": {},
   "source": [
    "### 6. Search flight from Bengalure to Pune on 22-Mar-2022"
   ]
  },
  {
   "cell_type": "code",
   "execution_count": 6,
   "id": "c00b3d28",
   "metadata": {},
   "outputs": [],
   "source": [
    "driver.get(\"https://paytm.com/flights/flightSearch/BLR-Bengaluru/PNQ-Pune/1/0/0/E/2022-03-22\")"
   ]
  },
  {
   "cell_type": "markdown",
   "id": "4507ee70",
   "metadata": {},
   "source": [
    "### 7. Getting the Url of different source and destination on different date"
   ]
  },
  {
   "cell_type": "code",
   "execution_count": 7,
   "id": "d97f5409",
   "metadata": {},
   "outputs": [],
   "source": [
    "# Creating empty list for URL\n",
    "url=[]\n",
    "\n",
    "# List for different Source\n",
    "source=[\"BOM-Mumbai\",\"BLR-Bengaluru\",\"CCU-Kolkata\"]\n",
    "\n",
    "# List for different destination\n",
    "destination = [\"DEL-Delhi\",\"PNQ-Pune\",\"MAA-Chennai\",\"HYD-Hyderabad\"] \n",
    "\n",
    "# List for different date\n",
    "date_list=[\"2022-03-22\",\"2022-03-30\",\"2022-04-07\",\"2022-04-13\",\"2022-04-21\",\"2022-04-29\",\"2022-05-07\",\"2022-05-15\",\"2022-05-23\",\"2022-06-01\"]\n",
    "\n",
    "for i in range(0,2):\n",
    "    for j in range(0,4):\n",
    "            for k in range(0,10):\n",
    "                urls=\"https://paytm.com/flights/flightSearch/\"+source[i]+\"/\"+destination[j]+\"/1/0/0/E/\"+date_list[k] \n",
    "                url.append(urls)"
   ]
  },
  {
   "cell_type": "code",
   "execution_count": 8,
   "id": "b2a6158b",
   "metadata": {},
   "outputs": [
    {
     "data": {
      "text/plain": [
       "80"
      ]
     },
     "execution_count": 8,
     "metadata": {},
     "output_type": "execute_result"
    }
   ],
   "source": [
    "len(url)"
   ]
  },
  {
   "cell_type": "markdown",
   "id": "da223205",
   "metadata": {},
   "source": [
    "### 6. Scraping the required data"
   ]
  },
  {
   "cell_type": "code",
   "execution_count": 9,
   "id": "73527ce1",
   "metadata": {},
   "outputs": [],
   "source": [
    "# empty list for data \n",
    "name=[]\n",
    "departure_time=[]\n",
    "arrival_time=[]\n",
    "dur=[]\n",
    "price=[]\n",
    "stop=[]\n",
    "place=[]\n",
    "date=[]\n",
    "for j in url:\n",
    "    driver.get(j)\n",
    "    time.sleep(2)\n",
    "    \n",
    "    for k in driver.find_elements_by_xpath('//div[@class=\"_3H-S _1Eia\"]'):\n",
    "        name.append(k.text)\n",
    "            \n",
    "    for k in driver.find_elements_by_xpath('//div[@class=\"_3H-S\"]'):\n",
    "        departure_time.append(k.text)\n",
    "        \n",
    "    for i in driver.find_elements_by_xpath('//div[@class=\"_3H-S _1wD5\"]'):\n",
    "        arrival_time.append(i.text.split(\"\\n\")[0])\n",
    "        \n",
    "    for i in driver.find_elements_by_xpath('//div[@class=\"vY4t\"]'):\n",
    "        dur.append(i.text)\n",
    "        \n",
    "    for i in driver.find_elements_by_xpath('//div[@class=\"_1cxG\"]'):\n",
    "        price.append(int(i.text.replace(\",\",\"\")))\n",
    "        \n",
    "    for i in driver.find_elements_by_xpath('//div[@class=\"_7BOG\"]'):\n",
    "        stop.append(i.text.split()[0])\n",
    "        \n",
    "    for i in driver.find_elements_by_xpath('//div[@class=\"NqXj\"]'):\n",
    "        place.append(i.text)\n",
    "        \n",
    "    for i in range(0,len(driver.find_elements_by_xpath('//div[@class=\"_1cxG\"]'))):\n",
    "               date.append(j.split('/')[11])\n"
   ]
  },
  {
   "cell_type": "code",
   "execution_count": 10,
   "id": "35571f44",
   "metadata": {},
   "outputs": [],
   "source": [
    "source=place[0::2]\n",
    "destination=place[1::2]"
   ]
  },
  {
   "cell_type": "code",
   "execution_count": 11,
   "id": "c14a13b8",
   "metadata": {},
   "outputs": [
    {
     "name": "stdout",
     "output_type": "stream",
     "text": [
      "9598 9598 9598 9598 9598 9598 9598 9598\n"
     ]
    }
   ],
   "source": [
    "print(len(arrival_time),len(dur),len(price),len(name),len(departure_time),len(source),len(destination),len(date))"
   ]
  },
  {
   "cell_type": "markdown",
   "id": "ca2fbd4f",
   "metadata": {},
   "source": [
    "### 7. Creating Data Frame"
   ]
  },
  {
   "cell_type": "code",
   "execution_count": 12,
   "id": "296fb5f5",
   "metadata": {},
   "outputs": [],
   "source": [
    "flight=pd.DataFrame({\"Flight name\":name,\n",
    "                 \"Departure_time\":departure_time,\n",
    "                 \"Arrival_time\":arrival_time,\n",
    "                 \"Price\":price,\n",
    "                 \"Source\":source,\n",
    "                 \"Destination\":destination,\n",
    "                  \"Duration\":dur,\n",
    "                 \"No of stop\":stop,\n",
    "                 \"Date\":date})"
   ]
  },
  {
   "cell_type": "code",
   "execution_count": 13,
   "id": "635779ce",
   "metadata": {},
   "outputs": [
    {
     "data": {
      "text/html": [
       "<div>\n",
       "<style scoped>\n",
       "    .dataframe tbody tr th:only-of-type {\n",
       "        vertical-align: middle;\n",
       "    }\n",
       "\n",
       "    .dataframe tbody tr th {\n",
       "        vertical-align: top;\n",
       "    }\n",
       "\n",
       "    .dataframe thead th {\n",
       "        text-align: right;\n",
       "    }\n",
       "</style>\n",
       "<table border=\"1\" class=\"dataframe\">\n",
       "  <thead>\n",
       "    <tr style=\"text-align: right;\">\n",
       "      <th></th>\n",
       "      <th>Flight name</th>\n",
       "      <th>Departure_time</th>\n",
       "      <th>Arrival_time</th>\n",
       "      <th>Price</th>\n",
       "      <th>Source</th>\n",
       "      <th>Destination</th>\n",
       "      <th>Duration</th>\n",
       "      <th>No of stop</th>\n",
       "      <th>Date</th>\n",
       "    </tr>\n",
       "  </thead>\n",
       "  <tbody>\n",
       "    <tr>\n",
       "      <th>0</th>\n",
       "      <td>SpiceJet</td>\n",
       "      <td>21:45</td>\n",
       "      <td>23:45</td>\n",
       "      <td>7308</td>\n",
       "      <td>Mumbai</td>\n",
       "      <td>Delhi</td>\n",
       "      <td>2h</td>\n",
       "      <td>Non</td>\n",
       "      <td>2022-03-22</td>\n",
       "    </tr>\n",
       "    <tr>\n",
       "      <th>1</th>\n",
       "      <td>IndiGo</td>\n",
       "      <td>17:15</td>\n",
       "      <td>19:20</td>\n",
       "      <td>7308</td>\n",
       "      <td>Mumbai</td>\n",
       "      <td>Delhi</td>\n",
       "      <td>2h 5m</td>\n",
       "      <td>Non</td>\n",
       "      <td>2022-03-22</td>\n",
       "    </tr>\n",
       "    <tr>\n",
       "      <th>2</th>\n",
       "      <td>IndiGo</td>\n",
       "      <td>18:30</td>\n",
       "      <td>20:35</td>\n",
       "      <td>7308</td>\n",
       "      <td>Mumbai</td>\n",
       "      <td>Delhi</td>\n",
       "      <td>2h 5m</td>\n",
       "      <td>Non</td>\n",
       "      <td>2022-03-22</td>\n",
       "    </tr>\n",
       "    <tr>\n",
       "      <th>3</th>\n",
       "      <td>IndiGo</td>\n",
       "      <td>20:30</td>\n",
       "      <td>22:35</td>\n",
       "      <td>7308</td>\n",
       "      <td>Mumbai</td>\n",
       "      <td>Delhi</td>\n",
       "      <td>2h 5m</td>\n",
       "      <td>Non</td>\n",
       "      <td>2022-03-22</td>\n",
       "    </tr>\n",
       "    <tr>\n",
       "      <th>4</th>\n",
       "      <td>IndiGo</td>\n",
       "      <td>22:20</td>\n",
       "      <td>00:25</td>\n",
       "      <td>7308</td>\n",
       "      <td>Mumbai</td>\n",
       "      <td>Delhi</td>\n",
       "      <td>2h 5m</td>\n",
       "      <td>Non</td>\n",
       "      <td>2022-03-22</td>\n",
       "    </tr>\n",
       "    <tr>\n",
       "      <th>...</th>\n",
       "      <td>...</td>\n",
       "      <td>...</td>\n",
       "      <td>...</td>\n",
       "      <td>...</td>\n",
       "      <td>...</td>\n",
       "      <td>...</td>\n",
       "      <td>...</td>\n",
       "      <td>...</td>\n",
       "      <td>...</td>\n",
       "    </tr>\n",
       "    <tr>\n",
       "      <th>9593</th>\n",
       "      <td>Vistara</td>\n",
       "      <td>06:40</td>\n",
       "      <td>17:00</td>\n",
       "      <td>13684</td>\n",
       "      <td>Bengaluru</td>\n",
       "      <td>Hyderabad</td>\n",
       "      <td>10h 20m</td>\n",
       "      <td>2</td>\n",
       "      <td>2022-06-01</td>\n",
       "    </tr>\n",
       "    <tr>\n",
       "      <th>9594</th>\n",
       "      <td>Air India</td>\n",
       "      <td>13:20</td>\n",
       "      <td>11:15</td>\n",
       "      <td>13740</td>\n",
       "      <td>Bengaluru</td>\n",
       "      <td>Hyderabad</td>\n",
       "      <td>21h 55m</td>\n",
       "      <td>2</td>\n",
       "      <td>2022-06-01</td>\n",
       "    </tr>\n",
       "    <tr>\n",
       "      <th>9595</th>\n",
       "      <td>Air India</td>\n",
       "      <td>10:00</td>\n",
       "      <td>11:15</td>\n",
       "      <td>13740</td>\n",
       "      <td>Bengaluru</td>\n",
       "      <td>Hyderabad</td>\n",
       "      <td>25h 15m</td>\n",
       "      <td>2</td>\n",
       "      <td>2022-06-01</td>\n",
       "    </tr>\n",
       "    <tr>\n",
       "      <th>9596</th>\n",
       "      <td>Air India</td>\n",
       "      <td>06:10</td>\n",
       "      <td>11:15</td>\n",
       "      <td>13740</td>\n",
       "      <td>Bengaluru</td>\n",
       "      <td>Hyderabad</td>\n",
       "      <td>29h 5m</td>\n",
       "      <td>2</td>\n",
       "      <td>2022-06-01</td>\n",
       "    </tr>\n",
       "    <tr>\n",
       "      <th>9597</th>\n",
       "      <td>Vistara</td>\n",
       "      <td>09:30</td>\n",
       "      <td>19:50</td>\n",
       "      <td>16772</td>\n",
       "      <td>Bengaluru</td>\n",
       "      <td>Hyderabad</td>\n",
       "      <td>10h 20m</td>\n",
       "      <td>3</td>\n",
       "      <td>2022-06-01</td>\n",
       "    </tr>\n",
       "  </tbody>\n",
       "</table>\n",
       "<p>9598 rows × 9 columns</p>\n",
       "</div>"
      ],
      "text/plain": [
       "     Flight name Departure_time Arrival_time  Price     Source Destination  \\\n",
       "0       SpiceJet          21:45        23:45   7308     Mumbai       Delhi   \n",
       "1         IndiGo          17:15        19:20   7308     Mumbai       Delhi   \n",
       "2         IndiGo          18:30        20:35   7308     Mumbai       Delhi   \n",
       "3         IndiGo          20:30        22:35   7308     Mumbai       Delhi   \n",
       "4         IndiGo          22:20        00:25   7308     Mumbai       Delhi   \n",
       "...          ...            ...          ...    ...        ...         ...   \n",
       "9593     Vistara          06:40        17:00  13684  Bengaluru   Hyderabad   \n",
       "9594   Air India          13:20        11:15  13740  Bengaluru   Hyderabad   \n",
       "9595   Air India          10:00        11:15  13740  Bengaluru   Hyderabad   \n",
       "9596   Air India          06:10        11:15  13740  Bengaluru   Hyderabad   \n",
       "9597     Vistara          09:30        19:50  16772  Bengaluru   Hyderabad   \n",
       "\n",
       "     Duration No of stop        Date  \n",
       "0          2h        Non  2022-03-22  \n",
       "1       2h 5m        Non  2022-03-22  \n",
       "2       2h 5m        Non  2022-03-22  \n",
       "3       2h 5m        Non  2022-03-22  \n",
       "4       2h 5m        Non  2022-03-22  \n",
       "...       ...        ...         ...  \n",
       "9593  10h 20m          2  2022-06-01  \n",
       "9594  21h 55m          2  2022-06-01  \n",
       "9595  25h 15m          2  2022-06-01  \n",
       "9596   29h 5m          2  2022-06-01  \n",
       "9597  10h 20m          3  2022-06-01  \n",
       "\n",
       "[9598 rows x 9 columns]"
      ]
     },
     "execution_count": 13,
     "metadata": {},
     "output_type": "execute_result"
    }
   ],
   "source": [
    "flight"
   ]
  },
  {
   "cell_type": "markdown",
   "id": "17d65658",
   "metadata": {},
   "source": [
    "### 8. Saving data into csv"
   ]
  },
  {
   "cell_type": "code",
   "execution_count": 14,
   "id": "e7ff67d6",
   "metadata": {},
   "outputs": [],
   "source": [
    "flight.to_csv(\"flight_price_for_prediction.csv\")"
   ]
  },
  {
   "cell_type": "markdown",
   "id": "82d2e053",
   "metadata": {},
   "source": [
    "### 9. Close the current driver "
   ]
  },
  {
   "cell_type": "code",
   "execution_count": 15,
   "id": "add06bfa",
   "metadata": {},
   "outputs": [],
   "source": [
    "driver.close()"
   ]
  }
 ],
 "metadata": {
  "kernelspec": {
   "display_name": "Python 3 (ipykernel)",
   "language": "python",
   "name": "python3"
  },
  "language_info": {
   "codemirror_mode": {
    "name": "ipython",
    "version": 3
   },
   "file_extension": ".py",
   "mimetype": "text/x-python",
   "name": "python",
   "nbconvert_exporter": "python",
   "pygments_lexer": "ipython3",
   "version": "3.9.12"
  }
 },
 "nbformat": 4,
 "nbformat_minor": 5
}
